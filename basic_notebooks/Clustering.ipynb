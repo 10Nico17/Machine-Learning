{
 "cells": [
  {
   "cell_type": "code",
   "execution_count": null,
   "id": "ee40f88b",
   "metadata": {},
   "outputs": [],
   "source": [
    "# !pip install numpy\n",
    "# !pip install scikit-learn\n",
    "# !pip install matplotlib"
   ]
  },
  {
   "cell_type": "code",
   "execution_count": 78,
   "id": "708d6302",
   "metadata": {},
   "outputs": [],
   "source": [
    "import numpy as np\n",
    "import abc\n",
    "from sklearn.datasets import load_iris\n",
    "from matplotlib import pyplot as plt\n",
    "%matplotlib inline"
   ]
  },
  {
   "cell_type": "markdown",
   "id": "78a0f7ac",
   "metadata": {},
   "source": [
    "# Übung 8: Agglomerative Hierarchical Clustering\n",
    "\n",
    "Implementieren Sie die untenstehenden _Linkage Funktionen_: `SingleLinkage`, `CompleteLinkage`, `AverageLinkage` und `CentroidLinkage` (je 1,25 Punkte) für den _Agglomerative Hierarchical Clustering_ Algorithmus. Dieser ist bereits für Sie implementiert."
   ]
  },
  {
   "cell_type": "markdown",
   "id": "4d7180f3",
   "metadata": {},
   "source": [
    "### Distanz-Funktionen"
   ]
  },
  {
   "cell_type": "code",
   "execution_count": 29,
   "id": "b5403828",
   "metadata": {},
   "outputs": [],
   "source": [
    "class DistFunc(metaclass=abc.ABCMeta):\n",
    "    \"\"\"abstract class for computing the distance between 2 vectors\"\"\"\n",
    "\n",
    "    @abc.abstractmethod\n",
    "    def __call__(self, a, b):\n",
    "        \"\"\"\n",
    "        Args:\n",
    "            a (numpy.ndarray): vector a (1D)\n",
    "            b (numpy.ndarray): vector b (1D)\n",
    "            \n",
    "        Returns:\n",
    "            float: distance between vector a and vector b\n",
    "        \"\"\"\n",
    "        raise NotImplementedError()\n",
    "\n",
    "class EuclideanDistance(DistFunc):\n",
    "    \"\"\"compute the euclidean distance between 2 vectors\"\"\"\n",
    "\n",
    "    def __call__(self, a, b):\n",
    "        return np.linalg.norm(a - b)"
   ]
  },
  {
   "cell_type": "markdown",
   "id": "7c2c34c0",
   "metadata": {},
   "source": [
    "### Linkage-Funktionen"
   ]
  },
  {
   "cell_type": "code",
   "execution_count": 89,
   "id": "400645c3",
   "metadata": {},
   "outputs": [],
   "source": [
    "class Linkage(metaclass=abc.ABCMeta):\n",
    "    \"\"\"abstract class for computing the linkage between 2 clusters\"\"\"\n",
    "    \n",
    "    def __call__(self, cluster_a, cluster_b, dist_func):\n",
    "        \"\"\"\n",
    "        Args:\n",
    "            cluster_a (numpy.ndarray): 2D data matrix for members of cluster a (columns->features, rows->samples)\n",
    "            cluster_b (numpy.ndarray): 2D data matrix for members of cluster b (columns->features, rows->samples)\n",
    "            dist_func (DistFunc): distance function for 2 vectors\n",
    "\n",
    "        Returns:\n",
    "            float: the computed linkage\n",
    "        \"\"\"\n",
    "        raise NotImplementedError()\n",
    "\n",
    "class SingleLinkage(Linkage):\n",
    "    \"\"\"computes the Single Linkage between two clusters\"\"\"\n",
    "    \n",
    "    def __call__(self, cluster_a, cluster_b, dist_func):\n",
    "        return np.min([dist_func(a, b) for a in cluster_a for b in cluster_b])\n",
    "    \n",
    "    def __str__(self):\n",
    "        return \"Single Linkage\"\n",
    "\n",
    "class CompleteLinkage(Linkage):\n",
    "    \"\"\"computes the Complete Linkage between two clusters\"\"\"\n",
    "    \n",
    "    def __call__(self, cluster_a, cluster_b, dist_func):\n",
    "        return np.max([dist_func(a, b) for a in cluster_a for b in cluster_b])\n",
    "    \n",
    "    def __str__(self):\n",
    "        return \"Complete Linkage\"\n",
    "    \n",
    "class AverageLinkage(Linkage):\n",
    "    \"\"\"computes the Average Linkage between two clusters\"\"\"\n",
    "    \n",
    "    def __call__(self, cluster_a, cluster_b, dist_func):\n",
    "        return np.mean([dist_func(a, b) for a in cluster_a for b in cluster_b])\n",
    "    \n",
    "    def __str__(self):\n",
    "        return \"Average Linkage\"\n",
    "    \n",
    "class CentroidLinkage(Linkage):\n",
    "    \"\"\"computes the Centroid Linkage between two clusters\"\"\"\n",
    "    \n",
    "    def __call__(self, cluster_a, cluster_b, dist_func):\n",
    "        return dist_func(np.mean(cluster_a, axis=0), np.mean(cluster_b, axis=0))\n",
    "    \n",
    "    def __str__(self):\n",
    "        return \"Centroid Linkage\""
   ]
  },
  {
   "cell_type": "markdown",
   "id": "e13b6fde",
   "metadata": {},
   "source": [
    "### Clustering Algorithmus"
   ]
  },
  {
   "cell_type": "code",
   "execution_count": 90,
   "id": "e7245db7",
   "metadata": {},
   "outputs": [],
   "source": [
    "class AgglomerativeHierarchicalClustering:\n",
    "    \"\"\"\n",
    "    implementation of the hierarchical clustering algorithm with variable distance function\n",
    "    and linkage function.\n",
    "    \n",
    "    implementation is not optimized and therefore slow.\n",
    "\n",
    "    Attributes:\n",
    "        dist_func (DistFunc): distance function\n",
    "        linkage (Linkage): linkage function\n",
    "        clusters (dict): dictionary describing the clusters,\n",
    "            with Cluster-IDs as keys and list of data indices as values\n",
    "    \"\"\"\n",
    "    \n",
    "    def __init__(self, dist_func, linkage):\n",
    "        self.dist_func = dist_func\n",
    "        self.linkage = linkage\n",
    "        self.clusters = None \n",
    "\n",
    "    def fit(self, X, n_clusters=2):\n",
    "        \"\"\"\n",
    "        perform the clustering on the given data and obtain the given number of clusters.\n",
    "        store clustering results in ``self.clusters``\n",
    "        \n",
    "        Args:\n",
    "            X (numpy.ndarray): 2D data matrix (columns->features, rows->samples)\n",
    "            n_clusters (int): number of clusters to obtain\n",
    "        \n",
    "        Returns:\n",
    "            None\n",
    "        \"\"\"\n",
    "        self._init_clusters(X)\n",
    "        while len(self.clusters.keys()) > n_clusters:\n",
    "            cluster_a, cluster_b = self._find_closest_clusters(X)\n",
    "            self._merge_clusters(cluster_a, cluster_b)\n",
    "            \n",
    "    def fit_predict(self, X, n_clusters=2):\n",
    "        \"\"\"\n",
    "        perform the clustering on the given data and obtain the given number of clusters\n",
    "        and return the predicted Cluster-IDs\n",
    "        \n",
    "        Args:\n",
    "            X (numpy.ndarray): 2D data matrix (columns->features, rows->samples)\n",
    "            n_clusters (int): number of clusters to obtain\n",
    "        \n",
    "        Returns:\n",
    "            numpy.ndarray: vector (1 col, X rows) of predicted Cluster-IDs (starting from 0)\n",
    "        \"\"\"\n",
    "        self.fit(X, n_clusters=n_clusters)\n",
    "        predictions = []\n",
    "        for cluster_id, members in self.clusters.items():\n",
    "            for member in members:\n",
    "                predictions.append((member, cluster_id))\n",
    "        predictions.sort(key=lambda x: x[0])\n",
    "        return np.array(predictions)[:, 1:]\n",
    "            \n",
    "    def _init_clusters(self, X):\n",
    "        self.clusters = {i: [i] for i in range(len(X))}\n",
    "            \n",
    "    def _merge_clusters(self, cluster_a, cluster_b):\n",
    "        new_clusters = {0: self.clusters[cluster_a] + self.clusters[cluster_b]}\n",
    "        i = 1\n",
    "        for cluster_id in self.clusters.keys():\n",
    "            if not cluster_id in [cluster_a, cluster_b]:\n",
    "                new_clusters[i] = self.clusters[cluster_id]\n",
    "                i += 1\n",
    "        self.clusters = new_clusters\n",
    "\n",
    "    def _find_closest_clusters(self, X):\n",
    "        min_dist = np.inf\n",
    "        closest_clusters = None\n",
    "        clusters_ids = list(self.clusters.keys())\n",
    "        for i, cluster_i in enumerate(clusters_ids[:-1]):\n",
    "            for cluster_j in clusters_ids[i+1:]:\n",
    "                dist = self.linkage(X[self.clusters[cluster_i]], X[self.clusters[cluster_j]], self.dist_func)\n",
    "                if dist < min_dist:\n",
    "                    min_dist, closest_clusters = dist, (cluster_i, cluster_j)\n",
    "        return closest_clusters"
   ]
  },
  {
   "cell_type": "markdown",
   "id": "ff397bb4",
   "metadata": {},
   "source": [
    "## Überprüfung\n",
    "\n",
    "Mit dem folgenden Code können Sie Ihre Implementierung testen. In dem Code wird der Iris-Flower Datensatz (siehe Übung 4) geladen. Wir trainieren ein `AgglomerativeHierarchicalClustering`-objekt auf den Features und vergleichen die durch Clustering erhaltenen Labels mit den echten Labels. Probieren Sie verschiedene Werte für `LINKAGE` und `N_CLUSTERS` aus."
   ]
  },
  {
   "cell_type": "code",
   "execution_count": 88,
   "id": "d43a8832",
   "metadata": {},
   "outputs": [
    {
     "name": "stderr",
     "output_type": "stream",
     "text": [
      "/tmp/ipykernel_108368/3187039652.py:24: UserWarning: Matplotlib is currently using module://matplotlib_inline.backend_inline, which is a non-GUI backend, so cannot show the figure.\n",
      "  fig.show()\n"
     ]
    },
    {
     "data": {
      "image/png": "[encoded data removed]",
      "text/plain": [
       "<Figure size 1000x500 with 2 Axes>"
      ]
     },
     "metadata": {},
     "output_type": "display_data"
    }
   ],
   "source": [
    "LINKAGE = CentroidLinkage()\n",
    "N_CLUSTERS = 3\n",
    "\n",
    "# load iris data\n",
    "iris_data = load_iris(as_frame=True)\n",
    "df = iris_data['frame']\n",
    "\n",
    "# perform clustering\n",
    "model = AgglomerativeHierarchicalClustering(\n",
    "    dist_func=EuclideanDistance(),\n",
    "    linkage=LINKAGE,\n",
    ")\n",
    "df['prediction'] = model.fit_predict(iris_data['data'].values, n_clusters=N_CLUSTERS)\n",
    "\n",
    "# plot clusters\n",
    "fig, (ax1, ax2) = plt.subplots(1, 2, figsize=(10, 5))\n",
    "colors = plt.cm.Set1.colors\n",
    "for label, group in df.groupby('target'):\n",
    "    group.plot(ax=ax1, kind='scatter', x='petal length (cm)', y='petal width (cm)', color=colors[label])\n",
    "for label, group in df.groupby('prediction'):\n",
    "    group.plot(ax=ax2, kind='scatter', x='petal length (cm)', y='petal width (cm)', color=colors[label])\n",
    "ax1.set_title('true labels')\n",
    "ax2.set_title(f'clustered labels ({LINKAGE})')\n",
    "fig.show()"
   ]
  }
 ],
 "metadata": {
  "kernelspec": {
   "display_name": "Python 3 (ipykernel)",
   "language": "python",
   "name": "python3"
  },
  "language_info": {
   "codemirror_mode": {
    "name": "ipython",
    "version": 3
   },
   "file_extension": ".py",
   "mimetype": "text/x-python",
   "name": "python",
   "nbconvert_exporter": "python",
   "pygments_lexer": "ipython3",
   "version": "3.10.8"
  }
 },
 "nbformat": 4,
 "nbformat_minor": 5
}
