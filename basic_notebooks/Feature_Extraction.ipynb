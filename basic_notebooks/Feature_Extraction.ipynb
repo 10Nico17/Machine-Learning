{
 "cells": [
  {
   "cell_type": "code",
   "execution_count": 15,
   "metadata": {},
   "outputs": [],
   "source": [
    "import matplotlib.pylab as plt\n",
    "import numpy as np\n",
    "from numpy.random import multivariate_normal as mvn\n",
    "%matplotlib inline"
   ]
  },
  {
   "cell_type": "markdown",
   "metadata": {},
   "source": [
    "# Übung 3"
   ]
  },
  {
   "cell_type": "markdown",
   "metadata": {},
   "source": [
    "In dieser Woche gibt es 3 Implementierungsaufgaben. Für die volle Punktzahl reichen 2 der 3 Aufgaben, welche \n",
    "Sie frei wählen können! Für die Bearbeitung einer 3. Aufgabe, können Sie bis zu 2,5 Bonuspunkte erhalten."
   ]
  },
  {
   "cell_type": "markdown",
   "metadata": {},
   "source": [
    "### 1. Min-Max-Scaler (50%)\n",
    "\n",
    "$\\Large x \\leftarrow \\frac{x - \\text{min}_x}{\\text{max}_x - \\text{min}_x} $"
   ]
  },
  {
   "cell_type": "code",
   "execution_count": 16,
   "metadata": {},
   "outputs": [],
   "source": [
    "class MinMaxScaler:\n",
    "    \"\"\"\n",
    "    Attributes:\n",
    "        min (numpy.ndarray): vector of the minimum values for each feature\n",
    "        max (numpy.ndarray): vector of the maximum values for each feature\n",
    "    \"\"\"\n",
    "    def __init__(self):\n",
    "        self.min = None\n",
    "        self.max = None\n",
    "    \n",
    "    def fit(self, X):\n",
    "        \"\"\"\n",
    "        calculate the minimum and maximum value for each feature and store in `self.min` and `self.max`\n",
    "        \n",
    "        Args:\n",
    "            X (numpy.ndarray): 2D feature matrix (columns->features, rows->samples)\n",
    "        \"\"\"\n",
    "        self.min = X.min(axis=0)\n",
    "        self.max = X.max(axis=0)\n",
    "        return None\n",
    "    \n",
    "    def transform(self, X):\n",
    "        \"\"\"\n",
    "        Apply min-max scaling and return scaled data\n",
    "        \n",
    "        Args:\n",
    "            X (numpy.ndarray): 2D feature matrix (columns->features, rows->samples)\n",
    "        \n",
    "        Returns:\n",
    "            numpy.ndarray: 2D feature matrix of scaled features (columns->features, rows->samples)\n",
    "        \"\"\"\n",
    "        if self.min is None or self.max is None:\n",
    "            raise ValueError(\"scaler is not fitted yet. please call self.fit() first!\")\n",
    "        X_norm = (X - self.min) / (self.max - self.min)\n",
    "        return X_norm\n",
    "    \n",
    "    def fit_transform(self, X):\n",
    "        self.fit(X)\n",
    "        return self.transform(X)\n"
   ]
  },
  {
   "cell_type": "markdown",
   "metadata": {},
   "source": [
    "#### Überprüfung"
   ]
  },
  {
   "cell_type": "code",
   "execution_count": 17,
   "metadata": {},
   "outputs": [
    {
     "data": {
      "text/plain": [
       "[<matplotlib.lines.Line2D at 0x7f10d2709d20>]"
      ]
     },
     "execution_count": 17,
     "metadata": {},
     "output_type": "execute_result"
    },
    {
     "data": {
      "image/png": "[encoded data removed]",
      "text/plain": [
       "<Figure size 1200x400 with 3 Axes>"
      ]
     },
     "metadata": {},
     "output_type": "display_data"
    }
   ],
   "source": [
    "from sklearn.preprocessing import MinMaxScaler as MinMaxScaler_\n",
    "\n",
    "# generate some toy data\n",
    "mu = np.array([0, 3])\n",
    "C = np.array([[5.,4.], [4.,5.]])\n",
    "X = mvn(mu, C, 100)\n",
    "\n",
    "# plot the data\n",
    "fig, (ax1, ax2, ax3) = plt.subplots(1, 3, figsize=(12,4))\n",
    "ax1.plot(X[:,0], X[:,1], '.')\n",
    "X_norm1 = MinMaxScaler_().fit_transform(X)\n",
    "ax2.plot(X_norm1[:,0], X_norm1[:,1], '.')\n",
    "\n",
    "lim = [-10, 10]\n",
    "for ax in (ax1, ax2, ax3):\n",
    "    ax.grid()\n",
    "    ax.set_xlim(lim)\n",
    "    ax.set_ylim(lim)\n",
    "\n",
    "ax1.set_title('orginal data')\n",
    "ax2.set_title('normalized (sklearn)')\n",
    "ax3.set_title('normalized (your implementation)')\n",
    "\n",
    "X_norm2 = MinMaxScaler().fit_transform(X)\n",
    "ax3.plot(X_norm2[:,0], X_norm2[:,1], '.')"
   ]
  },
  {
   "cell_type": "markdown",
   "metadata": {},
   "source": [
    "### 2. One Hot Encoding (50%)"
   ]
  },
  {
   "cell_type": "code",
   "execution_count": 18,
   "metadata": {},
   "outputs": [],
   "source": [
    "class OneHotEncoder:\n",
    "    \"\"\"\n",
    "    Attributes:\n",
    "        categories (list of numpy.ndarray): list of vectors of unique categories per feature\n",
    "    \"\"\"\n",
    "    def __init__(self):\n",
    "        self.categories = None\n",
    "        \n",
    "    def fit(self, X):\n",
    "        \"\"\"\n",
    "        determine the unique categories per feature and store in `self.categories`\n",
    "        \n",
    "        Args:\n",
    "            X (numpy.ndarray): 2D feature matrix (columns->features, rows->samples)\n",
    "        \"\"\"\n",
    "        self.categories = []\n",
    "        for col in X.T:\n",
    "            self.categories.append(np.unique(col))\n",
    "        return None\n",
    "    \n",
    "    def transform(self, X):\n",
    "        \"\"\"\n",
    "        transform categorical features to one-hot-encoded features\n",
    "        \n",
    "        Args:\n",
    "            X (numpy.ndarray): 2D feature matrix (columns->features, rows->samples)\n",
    "        \n",
    "        Returns:\n",
    "            numpy.ndarray: 2D feature matrix of one hot encoded features with a column for each category \n",
    "                for each feature\n",
    "        \"\"\"\n",
    "        if self.categories is None:\n",
    "            raise ValueError(\"transformer is not fitted yet. please call self.fit() first!\")\n",
    "        feature_list = []\n",
    "        for idx, col in enumerate(X.T):\n",
    "            feature_list.append(\n",
    "                (col == self.categories[idx][:, np.newaxis]).T.astype(float)\n",
    "            )\n",
    "        return np.concatenate(feature_list, axis=1)\n",
    "    \n",
    "    def fit_transform(self, X):\n",
    "        self.fit(X)\n",
    "        return self.transform(X)\n"
   ]
  },
  {
   "cell_type": "markdown",
   "metadata": {},
   "source": [
    "#### Überprüfung"
   ]
  },
  {
   "cell_type": "code",
   "execution_count": 19,
   "metadata": {},
   "outputs": [
    {
     "name": "stdout",
     "output_type": "stream",
     "text": [
      "sklearn:\n",
      " [[1. 0. 0. 0. 0. 0. 1.]\n",
      " [0. 0. 0. 1. 0. 1. 0.]\n",
      " [1. 0. 0. 0. 1. 0. 0.]\n",
      " [0. 1. 0. 0. 1. 0. 0.]\n",
      " [0. 0. 1. 0. 0. 0. 1.]\n",
      " [0. 0. 0. 1. 0. 0. 1.]] \n",
      "\n",
      "your implementation: \n",
      " [[1. 0. 0. 0. 0. 0. 1.]\n",
      " [0. 0. 0. 1. 0. 1. 0.]\n",
      " [1. 0. 0. 0. 1. 0. 0.]\n",
      " [0. 1. 0. 0. 1. 0. 0.]\n",
      " [0. 0. 1. 0. 0. 0. 1.]\n",
      " [0. 0. 0. 1. 0. 0. 1.]]\n"
     ]
    }
   ],
   "source": [
    "from sklearn.preprocessing import OneHotEncoder as OneHotEncoder_\n",
    "\n",
    "# create some categorical toy data\n",
    "cat_data = np.array([['blue', 'yellow', 'blue', 'green', 'red', 'yellow'],\n",
    "                     ['warm', 'medium', 'cold', 'cold', 'warm', 'warm']]).T\n",
    "\n",
    "print('sklearn:\\n', OneHotEncoder_(sparse=False).fit_transform(cat_data), '\\n')\n",
    "print('your implementation: \\n', OneHotEncoder().fit_transform(cat_data))"
   ]
  },
  {
   "cell_type": "markdown",
   "metadata": {},
   "source": [
    "### 3. Bag-of-Words Features (50%)"
   ]
  },
  {
   "cell_type": "code",
   "execution_count": 20,
   "metadata": {},
   "outputs": [],
   "source": [
    "import itertools\n",
    "\n",
    "class CountVectorizer:\n",
    "    \"\"\"\n",
    "    Attributes:\n",
    "        vocabulary (list of str): list of tokens (words)\n",
    "    \"\"\"\n",
    "    def __init__(self, vocabulary=None):\n",
    "        self.vocabulary = vocabulary\n",
    "    \n",
    "    @staticmethod\n",
    "    def preprocess(s):\n",
    "        return \"\".join([c for c in s.lower() if c.isalnum() or c == \" \"]).split(\" \")\n",
    "        \n",
    "    def fit(self, X):\n",
    "        \"\"\"\n",
    "        Learn the vocabulary from the data and store in `self.vocabulary`\n",
    "        \n",
    "        Args:\n",
    "            X (list of str): list of documents\n",
    "        \"\"\"\n",
    "        preprocessed = [self.preprocess(s) for s in X]\n",
    "        words = itertools.chain(*preprocessed)\n",
    "        self.vocabulary = sorted(list(set(words)))\n",
    "        return None\n",
    "    \n",
    "    def transform(self, X):\n",
    "        \"\"\"\n",
    "        count the tokens (words) per document and transform to bag of word features\n",
    "        \n",
    "        Args:\n",
    "            X (list of str): list of documents\n",
    "            \n",
    "        Returns:\n",
    "            numpy.ndarray: 2D feature matrix, with a row per document, and a column per word in the vocabulary\n",
    "        \"\"\"\n",
    "        if self.vocabulary is None:\n",
    "            raise ValueError(\"transformer is not fitted yet. please call self.fit() first!\")\n",
    "        X_transformed = np.zeros((len(X), len(self.vocabulary)))\n",
    "        for idx, row in enumerate(X):\n",
    "            word_list = np.array(self.preprocess(row))\n",
    "            X_transformed[idx] = (word_list[:, np.newaxis] == self.vocabulary).sum(axis=0)\n",
    "        return X_transformed.astype(int)\n",
    "        \n",
    "    def fit_transform(self, X):\n",
    "        self.fit(X)\n",
    "        return self.transform(X)\n"
   ]
  },
  {
   "cell_type": "markdown",
   "metadata": {},
   "source": [
    "#### Überprüfung"
   ]
  },
  {
   "cell_type": "code",
   "execution_count": 21,
   "metadata": {},
   "outputs": [
    {
     "name": "stdout",
     "output_type": "stream",
     "text": [
      "sklearn:\n",
      "Vocabulary: ['and' 'document' 'first' 'is' 'one' 'second' 'the' 'third' 'this']\n",
      "transformed features:\n",
      " [[0 1 1 1 0 0 1 0 1]\n",
      " [0 2 0 1 0 1 1 0 1]\n",
      " [1 0 0 1 1 0 1 1 1]\n",
      " [0 1 1 1 0 0 1 0 1]] \n",
      "\n",
      "your implementation:\n",
      "Vocabulary: ['and', 'document', 'first', 'is', 'one', 'second', 'the', 'third', 'this']\n",
      "transformed features:\n",
      " [[0 1 1 1 0 0 1 0 1]\n",
      " [0 2 0 1 0 1 1 0 1]\n",
      " [1 0 0 1 1 0 1 1 1]\n",
      " [0 1 1 1 0 0 1 0 1]] \n",
      "\n"
     ]
    }
   ],
   "source": [
    "from sklearn.feature_extraction.text import CountVectorizer as CountVectorizer_\n",
    "\n",
    "# generate toy data\n",
    "corpus = [\n",
    "     'This is the first document.',\n",
    "     'This document is the second document.',\n",
    "     'And this is the third one.',\n",
    "     'Is this the first document?']\n",
    "\n",
    "# use sklearn\n",
    "vectorizer = CountVectorizer_()\n",
    "X = vectorizer.fit_transform(corpus)\n",
    "print(\"sklearn:\")\n",
    "print(f\"Vocabulary: {vectorizer.get_feature_names_out()}\")\n",
    "print(\"transformed features:\\n\", X.toarray(), '\\n')\n",
    "\n",
    "# use your implementation\n",
    "vectorizer = CountVectorizer()\n",
    "X = vectorizer.fit_transform(corpus)\n",
    "print(\"your implementation:\")\n",
    "print(f\"Vocabulary: {vectorizer.vocabulary}\")\n",
    "print(\"transformed features:\\n\", X, \"\\n\")"
   ]
  }
 ],
 "metadata": {
  "kernelspec": {
   "display_name": "Python 3 (ipykernel)",
   "language": "python",
   "name": "python3"
  },
  "language_info": {
   "codemirror_mode": {
    "name": "ipython",
    "version": 3
   },
   "file_extension": ".py",
   "mimetype": "text/x-python",
   "name": "python",
   "nbconvert_exporter": "python",
   "pygments_lexer": "ipython3",
   "version": "3.10.8"
  }
 },
 "nbformat": 4,
 "nbformat_minor": 2
}
