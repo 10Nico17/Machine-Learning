{
 "cells": [
  {
   "cell_type": "markdown",
   "metadata": {},
   "source": [
    "# Musterlösung Übung 7: Projekt"
   ]
  },
  {
   "cell_type": "markdown",
   "metadata": {},
   "source": [
    "Diese Musterlösung ist eine reale Abgabe, wurde mit voller Punktzahl bewertet und freundlicherweise \n",
    "von der einreichenden Person zur allgemeinen Begutachtung zur Verfügung gestellt."
   ]
  },
  {
   "cell_type": "markdown",
   "metadata": {},
   "source": [
    "## Library Import\n",
    "\n",
    "Pandas, Numpy, typing, etwaige scikit-learn features und seaborn"
   ]
  },
  {
   "cell_type": "code",
   "execution_count": 2,
   "metadata": {},
   "outputs": [],
   "source": [
    "from typing import Any, Optional\n",
    "\n",
    "import pandas as pd\n",
    "import numpy as np\n",
    "import seaborn as sns\n",
    "\n",
    "from sklearn.model_selection import train_test_split, GridSearchCV, RandomizedSearchCV\n",
    "from sklearn.feature_extraction.text import CountVectorizer, HashingVectorizer\n",
    "from sklearn.pipeline import Pipeline\n",
    "from sklearn.neural_network import MLPRegressor, MLPClassifier\n",
    "from sklearn.linear_model import Perceptron\n",
    "from sklearn.metrics import r2_score, confusion_matrix, classification_report\n",
    "from sklearn.neighbors import KNeighborsRegressor, KNeighborsClassifier\n",
    "from sklearn.preprocessing import KBinsDiscretizer, LabelEncoder\n",
    "\n",
    "%matplotlib inline"
   ]
  },
  {
   "cell_type": "markdown",
   "metadata": {},
   "source": [
    "## Einlesen des Datensatzes\n",
    "\n",
    "Spalte **PublishDate** in `datetime` umwandeln und **IDLink** als Index setzen"
   ]
  },
  {
   "cell_type": "code",
   "execution_count": 3,
   "metadata": {},
   "outputs": [],
   "source": [
    "df = pd.read_csv('data/news.csv', parse_dates=['PublishDate'])\n",
    "\n",
    "# IDLink -> int, index setzen\n",
    "df.IDLink = df.IDLink.astype(int)\n",
    "df = df.set_index('IDLink')"
   ]
  },
  {
   "cell_type": "markdown",
   "metadata": {},
   "source": [
    "## Untersuchen des Datensatzes"
   ]
  },
  {
   "cell_type": "code",
   "execution_count": 4,
   "metadata": {},
   "outputs": [
    {
     "data": {
      "text/html": [
       "<div>\n",
       "<style scoped>\n",
       "    .dataframe tbody tr th:only-of-type {\n",
       "        vertical-align: middle;\n",
       "    }\n",
       "\n",
       "    .dataframe tbody tr th {\n",
       "        vertical-align: top;\n",
       "    }\n",
       "\n",
       "    .dataframe thead th {\n",
       "        text-align: right;\n",
       "    }\n",
       "</style>\n",
       "<table border=\"1\" class=\"dataframe\">\n",
       "  <thead>\n",
       "    <tr style=\"text-align: right;\">\n",
       "      <th></th>\n",
       "      <th>Title</th>\n",
       "      <th>Headline</th>\n",
       "      <th>Source</th>\n",
       "      <th>Topic</th>\n",
       "      <th>PublishDate</th>\n",
       "      <th>SentimentTitle</th>\n",
       "      <th>SentimentHeadline</th>\n",
       "      <th>Facebook</th>\n",
       "      <th>GooglePlus</th>\n",
       "      <th>LinkedIn</th>\n",
       "    </tr>\n",
       "    <tr>\n",
       "      <th>IDLink</th>\n",
       "      <th></th>\n",
       "      <th></th>\n",
       "      <th></th>\n",
       "      <th></th>\n",
       "      <th></th>\n",
       "      <th></th>\n",
       "      <th></th>\n",
       "      <th></th>\n",
       "      <th></th>\n",
       "      <th></th>\n",
       "    </tr>\n",
       "  </thead>\n",
       "  <tbody>\n",
       "    <tr>\n",
       "      <th>99248</th>\n",
       "      <td>Obama Lays Wreath at Arlington National Cemetery</td>\n",
       "      <td>Obama Lays Wreath at Arlington National Cemete...</td>\n",
       "      <td>USA TODAY</td>\n",
       "      <td>obama</td>\n",
       "      <td>2002-04-02 00:00:00</td>\n",
       "      <td>0.000000</td>\n",
       "      <td>-0.053300</td>\n",
       "      <td>-1</td>\n",
       "      <td>-1</td>\n",
       "      <td>-1</td>\n",
       "    </tr>\n",
       "    <tr>\n",
       "      <th>10423</th>\n",
       "      <td>A Look at the Health of the Chinese Economy</td>\n",
       "      <td>Tim Haywood, investment director business-unit...</td>\n",
       "      <td>Bloomberg</td>\n",
       "      <td>economy</td>\n",
       "      <td>2008-09-20 00:00:00</td>\n",
       "      <td>0.208333</td>\n",
       "      <td>-0.156386</td>\n",
       "      <td>-1</td>\n",
       "      <td>-1</td>\n",
       "      <td>-1</td>\n",
       "    </tr>\n",
       "    <tr>\n",
       "      <th>18828</th>\n",
       "      <td>Nouriel Roubini: Global Economy Not Back to 2008</td>\n",
       "      <td>Nouriel Roubini, NYU professor and chairman at...</td>\n",
       "      <td>Bloomberg</td>\n",
       "      <td>economy</td>\n",
       "      <td>2012-01-28 00:00:00</td>\n",
       "      <td>-0.425210</td>\n",
       "      <td>0.139754</td>\n",
       "      <td>-1</td>\n",
       "      <td>-1</td>\n",
       "      <td>-1</td>\n",
       "    </tr>\n",
       "    <tr>\n",
       "      <th>27788</th>\n",
       "      <td>Finland GDP Expands In Q4</td>\n",
       "      <td>Finland's economy expanded marginally in the t...</td>\n",
       "      <td>RTT News</td>\n",
       "      <td>economy</td>\n",
       "      <td>2015-03-01 00:06:00</td>\n",
       "      <td>0.000000</td>\n",
       "      <td>0.026064</td>\n",
       "      <td>-1</td>\n",
       "      <td>-1</td>\n",
       "      <td>-1</td>\n",
       "    </tr>\n",
       "    <tr>\n",
       "      <th>27789</th>\n",
       "      <td>Tourism, govt spending buoys Thai economy in J...</td>\n",
       "      <td>Tourism and public spending continued to boost...</td>\n",
       "      <td>The Nation - Thailand&amp;#39;s English news</td>\n",
       "      <td>economy</td>\n",
       "      <td>2015-03-01 00:11:00</td>\n",
       "      <td>0.000000</td>\n",
       "      <td>0.141084</td>\n",
       "      <td>-1</td>\n",
       "      <td>-1</td>\n",
       "      <td>-1</td>\n",
       "    </tr>\n",
       "  </tbody>\n",
       "</table>\n",
       "</div>"
      ],
      "text/plain": [
       "                                                    Title  \\\n",
       "IDLink                                                      \n",
       "99248    Obama Lays Wreath at Arlington National Cemetery   \n",
       "10423         A Look at the Health of the Chinese Economy   \n",
       "18828    Nouriel Roubini: Global Economy Not Back to 2008   \n",
       "27788                           Finland GDP Expands In Q4   \n",
       "27789   Tourism, govt spending buoys Thai economy in J...   \n",
       "\n",
       "                                                 Headline  \\\n",
       "IDLink                                                      \n",
       "99248   Obama Lays Wreath at Arlington National Cemete...   \n",
       "10423   Tim Haywood, investment director business-unit...   \n",
       "18828   Nouriel Roubini, NYU professor and chairman at...   \n",
       "27788   Finland's economy expanded marginally in the t...   \n",
       "27789   Tourism and public spending continued to boost...   \n",
       "\n",
       "                                          Source    Topic         PublishDate  \\\n",
       "IDLink                                                                          \n",
       "99248                                  USA TODAY    obama 2002-04-02 00:00:00   \n",
       "10423                                  Bloomberg  economy 2008-09-20 00:00:00   \n",
       "18828                                  Bloomberg  economy 2012-01-28 00:00:00   \n",
       "27788                                   RTT News  economy 2015-03-01 00:06:00   \n",
       "27789   The Nation - Thailand&#39;s English news  economy 2015-03-01 00:11:00   \n",
       "\n",
       "        SentimentTitle  SentimentHeadline  Facebook  GooglePlus  LinkedIn  \n",
       "IDLink                                                                     \n",
       "99248         0.000000          -0.053300        -1          -1        -1  \n",
       "10423         0.208333          -0.156386        -1          -1        -1  \n",
       "18828        -0.425210           0.139754        -1          -1        -1  \n",
       "27788         0.000000           0.026064        -1          -1        -1  \n",
       "27789         0.000000           0.141084        -1          -1        -1  "
      ]
     },
     "execution_count": 4,
     "metadata": {},
     "output_type": "execute_result"
    }
   ],
   "source": [
    "df.head()"
   ]
  },
  {
   "cell_type": "code",
   "execution_count": 5,
   "metadata": {},
   "outputs": [
    {
     "data": {
      "text/html": [
       "<div>\n",
       "<style scoped>\n",
       "    .dataframe tbody tr th:only-of-type {\n",
       "        vertical-align: middle;\n",
       "    }\n",
       "\n",
       "    .dataframe tbody tr th {\n",
       "        vertical-align: top;\n",
       "    }\n",
       "\n",
       "    .dataframe thead th {\n",
       "        text-align: right;\n",
       "    }\n",
       "</style>\n",
       "<table border=\"1\" class=\"dataframe\">\n",
       "  <thead>\n",
       "    <tr style=\"text-align: right;\">\n",
       "      <th></th>\n",
       "      <th>SentimentTitle</th>\n",
       "      <th>SentimentHeadline</th>\n",
       "      <th>Facebook</th>\n",
       "      <th>GooglePlus</th>\n",
       "      <th>LinkedIn</th>\n",
       "    </tr>\n",
       "  </thead>\n",
       "  <tbody>\n",
       "    <tr>\n",
       "      <th>count</th>\n",
       "      <td>93239.000000</td>\n",
       "      <td>93239.000000</td>\n",
       "      <td>93239.000000</td>\n",
       "      <td>93239.000000</td>\n",
       "      <td>93239.000000</td>\n",
       "    </tr>\n",
       "    <tr>\n",
       "      <th>mean</th>\n",
       "      <td>-0.005411</td>\n",
       "      <td>-0.027493</td>\n",
       "      <td>113.141336</td>\n",
       "      <td>3.888362</td>\n",
       "      <td>16.547957</td>\n",
       "    </tr>\n",
       "    <tr>\n",
       "      <th>std</th>\n",
       "      <td>0.136431</td>\n",
       "      <td>0.141964</td>\n",
       "      <td>620.173233</td>\n",
       "      <td>18.492648</td>\n",
       "      <td>154.459048</td>\n",
       "    </tr>\n",
       "    <tr>\n",
       "      <th>min</th>\n",
       "      <td>-0.950694</td>\n",
       "      <td>-0.755433</td>\n",
       "      <td>-1.000000</td>\n",
       "      <td>-1.000000</td>\n",
       "      <td>-1.000000</td>\n",
       "    </tr>\n",
       "    <tr>\n",
       "      <th>25%</th>\n",
       "      <td>-0.079057</td>\n",
       "      <td>-0.114574</td>\n",
       "      <td>0.000000</td>\n",
       "      <td>0.000000</td>\n",
       "      <td>0.000000</td>\n",
       "    </tr>\n",
       "    <tr>\n",
       "      <th>50%</th>\n",
       "      <td>0.000000</td>\n",
       "      <td>-0.026064</td>\n",
       "      <td>5.000000</td>\n",
       "      <td>0.000000</td>\n",
       "      <td>0.000000</td>\n",
       "    </tr>\n",
       "    <tr>\n",
       "      <th>75%</th>\n",
       "      <td>0.064255</td>\n",
       "      <td>0.059709</td>\n",
       "      <td>33.000000</td>\n",
       "      <td>2.000000</td>\n",
       "      <td>4.000000</td>\n",
       "    </tr>\n",
       "    <tr>\n",
       "      <th>max</th>\n",
       "      <td>0.962354</td>\n",
       "      <td>0.964646</td>\n",
       "      <td>49211.000000</td>\n",
       "      <td>1267.000000</td>\n",
       "      <td>20341.000000</td>\n",
       "    </tr>\n",
       "  </tbody>\n",
       "</table>\n",
       "</div>"
      ],
      "text/plain": [
       "       SentimentTitle  SentimentHeadline      Facebook    GooglePlus  \\\n",
       "count    93239.000000       93239.000000  93239.000000  93239.000000   \n",
       "mean        -0.005411          -0.027493    113.141336      3.888362   \n",
       "std          0.136431           0.141964    620.173233     18.492648   \n",
       "min         -0.950694          -0.755433     -1.000000     -1.000000   \n",
       "25%         -0.079057          -0.114574      0.000000      0.000000   \n",
       "50%          0.000000          -0.026064      5.000000      0.000000   \n",
       "75%          0.064255           0.059709     33.000000      2.000000   \n",
       "max          0.962354           0.964646  49211.000000   1267.000000   \n",
       "\n",
       "           LinkedIn  \n",
       "count  93239.000000  \n",
       "mean      16.547957  \n",
       "std      154.459048  \n",
       "min       -1.000000  \n",
       "25%        0.000000  \n",
       "50%        0.000000  \n",
       "75%        4.000000  \n",
       "max    20341.000000  "
      ]
     },
     "execution_count": 5,
     "metadata": {},
     "output_type": "execute_result"
    }
   ],
   "source": [
    "df.describe()"
   ]
  },
  {
   "cell_type": "markdown",
   "metadata": {},
   "source": [
    "Aus dem `describe()` ist ersichtlich, dass die Sentiment-Werte warscheinlich auf einen Bereich von 1 bis -1 beschränkt sind. Anhand der Perzentile ist ersichtlich, dass die meisten Titel / Headlines als neutral wahrgenommen werden."
   ]
  },
  {
   "cell_type": "code",
   "execution_count": 6,
   "metadata": {},
   "outputs": [
    {
     "data": {
      "text/html": [
       "<div>\n",
       "<style scoped>\n",
       "    .dataframe tbody tr th:only-of-type {\n",
       "        vertical-align: middle;\n",
       "    }\n",
       "\n",
       "    .dataframe tbody tr th {\n",
       "        vertical-align: top;\n",
       "    }\n",
       "\n",
       "    .dataframe thead th {\n",
       "        text-align: right;\n",
       "    }\n",
       "</style>\n",
       "<table border=\"1\" class=\"dataframe\">\n",
       "  <thead>\n",
       "    <tr style=\"text-align: right;\">\n",
       "      <th></th>\n",
       "      <th>Title</th>\n",
       "      <th>SentimentTitle</th>\n",
       "    </tr>\n",
       "    <tr>\n",
       "      <th>IDLink</th>\n",
       "      <th></th>\n",
       "      <th></th>\n",
       "    </tr>\n",
       "  </thead>\n",
       "  <tbody>\n",
       "    <tr>\n",
       "      <th>68482</th>\n",
       "      <td>Obama administration upbeat about health law s...</td>\n",
       "      <td>0.795495</td>\n",
       "    </tr>\n",
       "    <tr>\n",
       "      <th>68377</th>\n",
       "      <td>Obama Administration Upbeat About Health Law S...</td>\n",
       "      <td>0.795495</td>\n",
       "    </tr>\n",
       "    <tr>\n",
       "      <th>68390</th>\n",
       "      <td>Obama administration upbeat about health law s...</td>\n",
       "      <td>0.795495</td>\n",
       "    </tr>\n",
       "    <tr>\n",
       "      <th>5433</th>\n",
       "      <td>Arkansas Economy Significantly Improving</td>\n",
       "      <td>0.925000</td>\n",
       "    </tr>\n",
       "    <tr>\n",
       "      <th>15033</th>\n",
       "      <td>We just got some really great news about the e...</td>\n",
       "      <td>0.962354</td>\n",
       "    </tr>\n",
       "  </tbody>\n",
       "</table>\n",
       "</div>"
      ],
      "text/plain": [
       "                                                    Title  SentimentTitle\n",
       "IDLink                                                                   \n",
       "68482   Obama administration upbeat about health law s...        0.795495\n",
       "68377   Obama Administration Upbeat About Health Law S...        0.795495\n",
       "68390   Obama administration upbeat about health law s...        0.795495\n",
       "5433             Arkansas Economy Significantly Improving        0.925000\n",
       "15033   We just got some really great news about the e...        0.962354"
      ]
     },
     "execution_count": 6,
     "metadata": {},
     "output_type": "execute_result"
    }
   ],
   "source": [
    "df.sort_values('SentimentTitle')[['Title', 'SentimentTitle']].tail()"
   ]
  },
  {
   "cell_type": "code",
   "execution_count": 7,
   "metadata": {},
   "outputs": [
    {
     "data": {
      "text/html": [
       "<div>\n",
       "<style scoped>\n",
       "    .dataframe tbody tr th:only-of-type {\n",
       "        vertical-align: middle;\n",
       "    }\n",
       "\n",
       "    .dataframe tbody tr th {\n",
       "        vertical-align: top;\n",
       "    }\n",
       "\n",
       "    .dataframe thead th {\n",
       "        text-align: right;\n",
       "    }\n",
       "</style>\n",
       "<table border=\"1\" class=\"dataframe\">\n",
       "  <thead>\n",
       "    <tr style=\"text-align: right;\">\n",
       "      <th></th>\n",
       "      <th>Title</th>\n",
       "      <th>SentimentTitle</th>\n",
       "    </tr>\n",
       "    <tr>\n",
       "      <th>IDLink</th>\n",
       "      <th></th>\n",
       "      <th></th>\n",
       "    </tr>\n",
       "  </thead>\n",
       "  <tbody>\n",
       "    <tr>\n",
       "      <th>53495</th>\n",
       "      <td>Satya Nadella just fixed a massive problem at ...</td>\n",
       "      <td>-0.950694</td>\n",
       "    </tr>\n",
       "    <tr>\n",
       "      <th>22793</th>\n",
       "      <td>Improving economy not helping all</td>\n",
       "      <td>-0.838525</td>\n",
       "    </tr>\n",
       "    <tr>\n",
       "      <th>39952</th>\n",
       "      <td>IMF Head: More Support Needed for &amp;quot;Too Sl...</td>\n",
       "      <td>-0.833784</td>\n",
       "    </tr>\n",
       "    <tr>\n",
       "      <th>42857</th>\n",
       "      <td>G20 worried by 'modest' global growth, commodi...</td>\n",
       "      <td>-0.793040</td>\n",
       "    </tr>\n",
       "    <tr>\n",
       "      <th>38763</th>\n",
       "      <td>Stressed Out: Tension a Silent Killer for Swed...</td>\n",
       "      <td>-0.791667</td>\n",
       "    </tr>\n",
       "  </tbody>\n",
       "</table>\n",
       "</div>"
      ],
      "text/plain": [
       "                                                    Title  SentimentTitle\n",
       "IDLink                                                                   \n",
       "53495   Satya Nadella just fixed a massive problem at ...       -0.950694\n",
       "22793                   Improving economy not helping all       -0.838525\n",
       "39952   IMF Head: More Support Needed for &quot;Too Sl...       -0.833784\n",
       "42857   G20 worried by 'modest' global growth, commodi...       -0.793040\n",
       "38763   Stressed Out: Tension a Silent Killer for Swed...       -0.791667"
      ]
     },
     "execution_count": 7,
     "metadata": {},
     "output_type": "execute_result"
    }
   ],
   "source": [
    "df.sort_values('SentimentTitle')[['Title', 'SentimentTitle']].head()"
   ]
  },
  {
   "cell_type": "markdown",
   "metadata": {},
   "source": [
    "Es ist zu vermuten, dass ein größeres Sentiment eine positivere Nachricht bedeutet."
   ]
  },
  {
   "cell_type": "code",
   "execution_count": 8,
   "metadata": {},
   "outputs": [
    {
     "name": "stdout",
     "output_type": "stream",
     "text": [
      "<class 'pandas.core.frame.DataFrame'>\n",
      "Int64Index: 93239 entries, 99248 to 61870\n",
      "Data columns (total 10 columns):\n",
      " #   Column             Non-Null Count  Dtype         \n",
      "---  ------             --------------  -----         \n",
      " 0   Title              93239 non-null  object        \n",
      " 1   Headline           93224 non-null  object        \n",
      " 2   Source             92960 non-null  object        \n",
      " 3   Topic              93239 non-null  object        \n",
      " 4   PublishDate        93239 non-null  datetime64[ns]\n",
      " 5   SentimentTitle     93239 non-null  float64       \n",
      " 6   SentimentHeadline  93239 non-null  float64       \n",
      " 7   Facebook           93239 non-null  int64         \n",
      " 8   GooglePlus         93239 non-null  int64         \n",
      " 9   LinkedIn           93239 non-null  int64         \n",
      "dtypes: datetime64[ns](1), float64(2), int64(3), object(4)\n",
      "memory usage: 7.8+ MB\n"
     ]
    }
   ],
   "source": [
    "df.info()"
   ]
  },
  {
   "cell_type": "markdown",
   "metadata": {},
   "source": [
    "Die Datentypen ergeben Sinn."
   ]
  },
  {
   "cell_type": "markdown",
   "metadata": {},
   "source": [
    "## Mögliche Supervised Learning Tasks\n",
    "\n",
    "### Task 1\n",
    "\n",
    "Der erste mögliche Task wäre, aus dem **Title** das **Topic** vorherzusagen. Dabei dienen die unveränderten Topic-Strings als Labels (sklearn hat kein Problem damit Strings als Labels zu verwenden). Als Feature Matrix würde eine N-Grams Bag-of-Words Repräsentation der **Title**-Spalte verwendet werden. Dies ist ein Klassifikationsproblem.\n",
    " \n",
    "### Task 2\n",
    "\n",
    "Ein zweiter möglicher Task wäre, **SentimentTitle** in Klassen aufzuteilen und dann diese Klassen wieder anhand der **Title**-Spalte vorherzusasgen. Ähnlich wie bei _Task 1_ handelt es sich hierbei um ein Klassifikationsproblem. Die Feature Matrix wäre auch hier wieder eine N-Grams Bag-of-Words Repräsentation der **Title**-Spalte. Die Labels wären Integer, die die Klassen darstellen, in die die kontinuierlichen **SentimentTitle**-Werte aufgeteilt wurden.\n",
    "\n",
    "### Task 3\n",
    "\n",
    "Als dritter möglicher Task bietet es sich an, das Regressionspendant des _Task 2_ zu bearbeiten. Dabei könnte man anstelle des **Title** die **Headline** untersuchen. Die Feature Matrix wäre also eine N-Grams Bag-of-Words Repräsentation der **Headline**-Spalte. Der y-Vektor besteht aus den bestehenden Gleitkommazahlen der **SentimentHeadline**-Spalte. Die **SentimentHeadline**-Werte liegen zwar schon zentriert zwischen -1 und 1, aber Normalisierung durch Z-Scoring könnte trotzdem vorteilhaft sein.\n",
    "\n",
    "### Auswahl\n",
    "\n",
    "Im folgenden werden die beiden Klassifikationsprobleme, also _Task 1_ sowie _Task 2_ implementiert."
   ]
  },
  {
   "cell_type": "markdown",
   "metadata": {},
   "source": [
    "## Statistiken"
   ]
  },
  {
   "cell_type": "markdown",
   "metadata": {},
   "source": [
    "### 1. Fehlende Werte\n",
    "\n",
    "Vor dem Verwenden eines Datensatzes ist es hilfreich, diesen auf fehlende (null) Werte zu untersuchen. ML-Algorithmen können normalerweise nicht mit fehlenden Werten arbeiten, weshalb diese entfernt werden müssen. Wie hier im Diagramm zu sehen, gibt es fehlende Werte in der **Headline**- und in der **Source**-Spalte. Diese Spalten werden in den hier implementierten Tasks nicht verwendet, es sind also keine weiteren Maßnahmen in dieser Hinsicht erforderlich."
   ]
  },
  {
   "cell_type": "code",
   "execution_count": 9,
   "metadata": {},
   "outputs": [
    {
     "data": {
      "image/png": "[encoded data removed]",
      "text/plain": [
       "<Figure size 640x480 with 1 Axes>"
      ]
     },
     "metadata": {},
     "output_type": "display_data"
    }
   ],
   "source": [
    "df.isnull().sum().plot.bar();"
   ]
  },
  {
   "cell_type": "markdown",
   "metadata": {},
   "source": [
    "### 2. Sentimentverteilung\n",
    "\n",
    "Für das Aufteilen der **SentimentTitle**-Spalte in Klassen ist es hilfreich zu wissen, wie die Daten innerhalb des Wertebereichs verteilt sind. Es ist zu erkennen, dass es sinnvoller ist, den Datensatz in Klassen mit gleicher Anzahl an Elementen zu zerlegen als den Wertebereich in gleichgroße Stücke einzuteilen. Die meisten Artikel werden eher als neutral wahrgenommen."
   ]
  },
  {
   "cell_type": "code",
   "execution_count": 54,
   "metadata": {},
   "outputs": [
    {
     "data": {
      "image/png": "[encoded data removed]",
      "text/plain": [
       "<Figure size 640x480 with 1 Axes>"
      ]
     },
     "metadata": {},
     "output_type": "display_data"
    }
   ],
   "source": [
    "df.hist(column='SentimentTitle');"
   ]
  },
  {
   "cell_type": "markdown",
   "metadata": {},
   "source": [
    "### 3. Titellänge\n",
    "\n",
    "Um einen Wertebereich für die Hyperparameteroptimierung für die Größe der N-Grams festlegen zu können, ist es hilfreich zu wissen wie viele Wörter die Titel enthalten. Wie zu sehen, befindet sich die Mitte des Histograms bei ungefähr 8-9 Wörter, die Größe der N-Grams sollte diesen Wert auf jeden Fall nicht überschreiten."
   ]
  },
  {
   "cell_type": "code",
   "execution_count": 10,
   "metadata": {},
   "outputs": [
    {
     "data": {
      "image/png": "[encoded data removed]",
      "text/plain": [
       "<Figure size 640x480 with 1 Axes>"
      ]
     },
     "metadata": {},
     "output_type": "display_data"
    }
   ],
   "source": [
    "df['Title'].apply(lambda data: len(str(data).split(' '))).hist();"
   ]
  },
  {
   "cell_type": "markdown",
   "metadata": {},
   "source": [
    "### 4. Topicverteilung\n",
    "\n",
    "Es sollte jede Klasse häufig genug vertreten sein, um ein Modell gut trainieren zu können. Unterrepräsentierte Klassen werden möglicherweise überhaupt nicht vorhergesagt."
   ]
  },
  {
   "cell_type": "code",
   "execution_count": 12,
   "metadata": {},
   "outputs": [
    {
     "data": {
      "image/png": "[encoded data removed]",
      "text/plain": [
       "<Figure size 640x480 with 1 Axes>"
      ]
     },
     "metadata": {},
     "output_type": "display_data"
    }
   ],
   "source": [
    "df['Topic'].value_counts().plot.bar();"
   ]
  },
  {
   "cell_type": "markdown",
   "metadata": {},
   "source": [
    "## Implementierung"
   ]
  },
  {
   "cell_type": "markdown",
   "metadata": {},
   "source": [
    "### Hilfsfunktionen\n",
    "\n",
    "Die erste Funktion generiert alle möglichen korrekten Parametermöglichkeiten für die Größe von N-Grams zwischen einem Minimum und einem Maximum für die Hyperparameteroptimierung. Für ein Minimum von 1 und einem Maximum von 2 sieht das Resultat wie folgt aus: `[(1, 1), (1, 2), (2, 2)]`.\n",
    "\n",
    "Die zweite Funktion evaluiert ein ML-Modell für Klassifizierungsprobleme an einen gegebenen Datensatz und generiert einen classification_report sowie eine Confusion-Matrix. Der Code zum Erstellen der Matrix ist teilweise aus den Übungsaufgaben kopiert."
   ]
  },
  {
   "cell_type": "code",
   "execution_count": 57,
   "metadata": {},
   "outputs": [],
   "source": [
    "def generate_ngram_range_parameters(min_ngrams: int, max_ngrams: int) -> list[tuple[int, int]]:\n",
    "    return [(min, max) for max in range(min_ngrams, max_ngrams+1) for min in range(min_ngrams, max+1)]\n",
    "\n",
    "def evaluate_classification_model(model, X, y, alternative_labels: Optional[dict[Any, str]] = None) -> None:\n",
    "    labels = np.sort(y.unique())\n",
    "\n",
    "    if alternative_labels:\n",
    "        str_labels: list[str] = [alternative_labels[label] for label in labels]\n",
    "    else:\n",
    "        str_labels: list[str] = list(map(str, list(labels)))\n",
    "\n",
    "    predicted = model.predict(X)\n",
    "    matrix = confusion_matrix(y, predicted, labels=labels)\n",
    "\n",
    "    print(classification_report(y, predicted))\n",
    "\n",
    "    ax = sns.heatmap(matrix, annot=True, cmap='Blues', cbar=False, fmt='g', \n",
    "                     xticklabels=str_labels, yticklabels=str_labels)\n",
    "    ax.set_title('Confusion Matrix');\n",
    "    ax.set_xlabel('Predicted Values')\n",
    "    ax.set_ylabel('Actual Values');"
   ]
  },
  {
   "cell_type": "markdown",
   "metadata": {},
   "source": [
    "### Task 1\n",
    "\n",
    "Hier kommt ein K-Nearest Neighbor Classifier zum Einsatz. Diese Art von Modell wird trainiert, indem alle Trainingsdaten gespeichert werden. Soll nun ein neuer Datenpunkt einer Klasse zugeordnet werden, so wird die Distanz vom neuen Punkt zu allen bestehenden Punkten ausgerechnet. Dann werden die K nächsten Punkte ausgewählt und das meistvertretene Label als Ergebnis gewählt. Als Distanzfunktion wird meist der Euklidische Abstand verwendet, aber auch andere Methoden sind denkbar.\n",
    "\n",
    "Zusätzlich zur N-Grams Größe wird nun die Anzahl an zu evaluierenden Nachbarn \"K\" per Hyperparameteroptimierung ausgewählt. Dabei kommt Random Search zum Einsatz.\n",
    "\n",
    "Potentielle Verbesserungen des Ergebnis wären eventuell durch einen größeren Suchbereich für die Hyperparameter und eine größere Anzahl an Iterationen der Random Search zu erziehlen, da so möglicherweise bessere Parameter gefunden werden könnten. Auch eine bessere Stop-Words-Liste könnte helfen, da die in scikit-learn eingebaute Liste viele vorraussichtlich relevante Wörter filtert."
   ]
  },
  {
   "cell_type": "code",
   "execution_count": 60,
   "metadata": {},
   "outputs": [
    {
     "name": "stderr",
     "output_type": "stream",
     "text": [
      "/usr/lib/python3.10/site-packages/joblib/externals/loky/process_executor.py:700: UserWarning: A worker stopped while some jobs were given to the executor. This can be caused by a too short worker timeout or by a memory leak.\n",
      "  warnings.warn(\n"
     ]
    },
    {
     "name": "stdout",
     "output_type": "stream",
     "text": [
      "              precision    recall  f1-score   support\n",
      "\n",
      "     economy       0.94      0.96      0.95     10179\n",
      "   microsoft       1.00      0.96      0.98      6557\n",
      "       obama       0.99      0.96      0.98      8583\n",
      "   palestine       0.81      0.88      0.85      2653\n",
      "\n",
      "    accuracy                           0.95     27972\n",
      "   macro avg       0.93      0.94      0.94     27972\n",
      "weighted avg       0.96      0.95      0.95     27972\n",
      "\n"
     ]
    },
    {
     "data": {
      "image/png": "[encoded data removed]",
      "text/plain": [
       "<Figure size 640x480 with 1 Axes>"
      ]
     },
     "metadata": {},
     "output_type": "display_data"
    }
   ],
   "source": [
    "X_train, X_test, y_train, y_test = train_test_split(df['Title'], df['Topic'], test_size=0.3, stratify=df['Topic'])\n",
    "\n",
    "pipe = Pipeline([('vect', CountVectorizer(stop_words='english')), ('knc', KNeighborsClassifier(n_jobs=4))])\n",
    "\n",
    "param_grid = {'vect__ngram_range': generate_ngram_range_parameters(1, 2),\n",
    "              'knc__n_neighbors': range(1,5)}\n",
    "              \n",
    "model = RandomizedSearchCV(pipe, param_grid, scoring=\"accuracy\", n_jobs=4, n_iter = 5).fit(X_train, y_train)\n",
    "\n",
    "evaluate_classification_model(model, X_test, y_test)"
   ]
  },
  {
   "cell_type": "markdown",
   "metadata": {},
   "source": [
    "### Task 2\n",
    "\n",
    "Für diesen Task wurde ein Perceptron verwendet. Ein Perceptron ist einem Neuron nachempfunden und hat in seiner einfachsten Form einen Eingangsvektor und eine einzelne Schicht an Neuronen als Ausgang. Jedes Neuron ist mit jedem Eingang verbunden, wobei jede dieser Verbindungen mit einem Gewicht assoziiert ist. Zur Berechnung des Ausgangs eines Neurons muss jeder Eingang mit dem zugehörigen Gewicht multipliziert und dann aufsummiert werden, wonach das Ergebnis mit der Fehlerfunktion des Neurons verrechnet wird. Der Perceptron lernt, indem per Gradient Descent die Gewichte so angepasst werden, dass eine Fehlerfunktion minimal wird.\n",
    "\n",
    "Es wird nur die N-Grams Größe als Hyperparameter per Grid Search optimiert. Die **SentimentTitle**-Spalte wird in 3 Bins mit gleicher Anzahl Datenpunkten mit Hilfe eines KBinsDiscretizers zerlegt.\n",
    "\n",
    "Das Ergebnis könnte verbessert werden, indem man einen Multilayer Perceptron anstelle eines normalen Perceptrons verwendet. Der Multilayer Perceptron kann auch nicht linear separierbare Probleme lösen. Eine weitere Verbesserung wäre potentiell durch das Optimieren von mehr Hyperparametern des Perceptrons zu erreichen. Parameter die besser zum vorliegenden Problem passen verbessern vorraussichtlich das Ergebnis."
   ]
  },
  {
   "cell_type": "code",
   "execution_count": 59,
   "metadata": {},
   "outputs": [
    {
     "name": "stdout",
     "output_type": "stream",
     "text": [
      "              precision    recall  f1-score   support\n",
      "\n",
      "           0       0.78      0.80      0.79      9256\n",
      "           1       0.72      0.65      0.68      9314\n",
      "           2       0.78      0.82      0.80      9402\n",
      "\n",
      "    accuracy                           0.76     27972\n",
      "   macro avg       0.76      0.76      0.76     27972\n",
      "weighted avg       0.76      0.76      0.76     27972\n",
      "\n"
     ]
    },
    {
     "data": {
      "image/png": "[encoded data removed]",
      "text/plain": [
       "<Figure size 640x480 with 1 Axes>"
      ]
     },
     "metadata": {},
     "output_type": "display_data"
    }
   ],
   "source": [
    "# Transformieren des Titel-Sentiments in 3 Klassen mit gleicher Anzahl an Elementen\n",
    "sentiment_title_shaped_array = df['SentimentTitle'].values.reshape(-1, 1)\n",
    "df['SentimentTitleBinned'] = KBinsDiscretizer(n_bins=3, encode='ordinal', strategy='quantile').fit_transform(sentiment_title_shaped_array).astype(int)\n",
    "\n",
    "X_train, X_test, y_train, y_test = train_test_split(df['Title'], df['SentimentTitleBinned'], test_size=0.3, stratify=df['SentimentTitleBinned'])\n",
    "\n",
    "pipe = Pipeline([('vect', CountVectorizer()), ('perc', Perceptron(n_jobs=5, max_iter=200000, early_stopping=True))])\n",
    "\n",
    "param_grid = {'vect__ngram_range': generate_ngram_range_parameters(1, 4)}\n",
    "              \n",
    "model = GridSearchCV(pipe, param_grid, scoring=\"accuracy\", n_jobs=4).fit(X_train, y_train)\n",
    "\n",
    "evaluate_classification_model(model, X_test, y_test, {0: 'negativ', 1: 'neutral', 2: 'positiv'})"
   ]
  }
 ],
 "metadata": {
  "kernelspec": {
   "display_name": "Python 3 (ipykernel)",
   "language": "python",
   "name": "python3"
  },
  "language_info": {
   "codemirror_mode": {
    "name": "ipython",
    "version": 3
   },
   "file_extension": ".py",
   "mimetype": "text/x-python",
   "name": "python",
   "nbconvert_exporter": "python",
   "pygments_lexer": "ipython3",
   "version": "3.9.19"
  },
  "vscode": {
   "interpreter": {
    "hash": "e7370f93d1d0cde622a1f8e1c04877d8463912d04d973331ad4851f04de6915a"
   }
  }
 },
 "nbformat": 4,
 "nbformat_minor": 4
}
